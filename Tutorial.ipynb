{
 "cells": [
  {
   "cell_type": "markdown",
   "metadata": {},
   "source": [
    "## From hl7-json to yml"
   ]
  },
  {
   "cell_type": "markdown",
   "metadata": {},
   "source": [
    "You can find a raw json-like file in `patient.json` which is a copy paste of https://www.hl7.org/fhir/patient.html (**JSON tab**). We convert it in pure json, and then yml automatically. We put these files in the store."
   ]
  },
  {
   "cell_type": "code",
   "execution_count": 1,
   "metadata": {},
   "outputs": [],
   "source": [
    "import json\n",
    "import process\n",
    "from process import clean_json, json_to_yml"
   ]
  },
  {
   "cell_type": "markdown",
   "metadata": {},
   "source": [
    "Define the Resource we're working with."
   ]
  },
  {
   "cell_type": "code",
   "execution_count": 2,
   "metadata": {},
   "outputs": [],
   "source": [
    "domain = 'Workflow'\n",
    "subdomain = 'Scheduling'\n",
    "resource = 'Appointment'\n",
    "clean_json_file = clean_json('appointment.json')"
   ]
  },
  {
   "cell_type": "markdown",
   "metadata": {},
   "source": [
    "### Clean JSON"
   ]
  },
  {
   "cell_type": "code",
   "execution_count": 3,
   "metadata": {},
   "outputs": [
    {
     "name": "stdout",
     "output_type": "stream",
     "text": [
      "{\n",
      "  \"resourceType\" : \"Appointment\",\n",
      "  \"identifier<list::Identifier>\": null,\n",
      "  \"status<code>\": null,\n",
      "  \"serviceCategory<CodeableConcept>\": null,\n",
      "  \"serviceType<list::CodeableConcept>\": null,\n",
      "  \"specialty<list::CodeableConcept>\": null,\n",
      "  \"appointmentType<CodeableConcept>\": null,\n",
      "  \"reason<list::CodeableConcept>\": null,\n",
      "  \"indication<list::Reference(Condition|Procedure)>\": null,\n",
      "  \"priority<unsignedInt>\": null,\n",
      "  \"description<string>\": null,\n",
      "  \"supportingInformation<list::Reference(Any)>\": null,\n",
      "  \"start<instant>\": null,\n",
      "  \"end<instant>\": null,\n",
      "  \"minutesDuration<positiveInt>\": null,\n",
      "  \"slot<list::Reference(Slot)>\": null,\n",
      "  \"created<dateTime>\": null,\n",
      "  \"comment<string>\": null,\n",
      "  \"incomingReferral<list::Reference(ReferralRequest)>\": null,\n",
      "  \"participant<list>\": [{\n",
      "    \"type<list::CodeableConcept>\": null,\n",
      "    \"actor<Reference(Patient|Practitioner|RelatedPerson|Device|HealthcareService|Location)>\": null,\n",
      "    \"required<code>\": null,\n",
      "    \"status<code>\": null\n",
      "  }],\n",
      "  \"requestedPeriod<list::Period>\": null\n",
      "}\n"
     ]
    }
   ],
   "source": [
    "print(clean_json_file)"
   ]
  },
  {
   "cell_type": "markdown",
   "metadata": {},
   "source": [
    "Write in the json store"
   ]
  },
  {
   "cell_type": "code",
   "execution_count": 4,
   "metadata": {},
   "outputs": [],
   "source": [
    "process.write(domain, subdomain, resource, clean_json_file, 'json')"
   ]
  },
  {
   "cell_type": "markdown",
   "metadata": {},
   "source": [
    "### Convert to yml"
   ]
  },
  {
   "cell_type": "code",
   "execution_count": 5,
   "metadata": {},
   "outputs": [
    {
     "name": "stdout",
     "output_type": "stream",
     "text": [
      "resourceType: \"Appointment\"\n",
      "identifier<list::Identifier>:\n",
      "status<code>:\n",
      "serviceCategory<CodeableConcept>:\n",
      "serviceType<list::CodeableConcept>:\n",
      "specialty<list::CodeableConcept>:\n",
      "appointmentType<CodeableConcept>:\n",
      "reason<list::CodeableConcept>:\n",
      "indication<list::Reference(Condition|Procedure)>:\n",
      "priority<unsignedInt>:\n",
      "description<string>:\n",
      "supportingInformation<list::Reference(Any)>:\n",
      "start<instant>:\n",
      "end<instant>:\n",
      "minutesDuration<positiveInt>:\n",
      "slot<list::Reference(Slot)>:\n",
      "created<dateTime>:\n",
      "comment<string>:\n",
      "incomingReferral<list::Reference(ReferralRequest)>:\n",
      "participant<list>:\n",
      "  - type<list::CodeableConcept>:\n",
      "    actor<Reference(Patient|Practitioner|RelatedPerson|Device|HealthcareService|Location)>:\n",
      "    required<code>:\n",
      "    status<code>:\n",
      "requestedPeriod<list::Period>:\n"
     ]
    }
   ],
   "source": [
    "clean_yml_file = json_to_yml(json.loads(clean_json_file))\n",
    "print(clean_yml_file)"
   ]
  },
  {
   "cell_type": "markdown",
   "metadata": {},
   "source": [
    "Write in the yml store"
   ]
  },
  {
   "cell_type": "code",
   "execution_count": 6,
   "metadata": {},
   "outputs": [],
   "source": [
    "process.write(domain, subdomain, resource, clean_yml_file, 'yml')"
   ]
  },
  {
   "cell_type": "code",
   "execution_count": null,
   "metadata": {},
   "outputs": [],
   "source": []
  }
 ],
 "metadata": {
  "kernelspec": {
   "display_name": "Python 3",
   "language": "python",
   "name": "python3"
  },
  "language_info": {
   "codemirror_mode": {
    "name": "ipython",
    "version": 3
   },
   "file_extension": ".py",
   "mimetype": "text/x-python",
   "name": "python",
   "nbconvert_exporter": "python",
   "pygments_lexer": "ipython3",
   "version": "3.6.4"
  }
 },
 "nbformat": 4,
 "nbformat_minor": 2
}
