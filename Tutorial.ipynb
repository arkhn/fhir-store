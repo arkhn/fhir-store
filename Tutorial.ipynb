{
 "cells": [
  {
   "cell_type": "markdown",
   "metadata": {},
   "source": [
    "## From hl7-json to yml"
   ]
  },
  {
   "cell_type": "markdown",
   "metadata": {},
   "source": [
    "You can find a raw json-like file in `patient.json` which is a copy paste of https://www.hl7.org/fhir/patient.html (**JSON tab**). We convert it in pure json, and then yml automatically. We put these files in the store."
   ]
  },
  {
   "cell_type": "code",
   "execution_count": 1,
   "metadata": {},
   "outputs": [],
   "source": [
    "import json\n",
    "import process\n",
    "from process import clean_json, json_to_yml"
   ]
  },
  {
   "cell_type": "markdown",
   "metadata": {},
   "source": [
    "Define the Resource we're working with."
   ]
  },
  {
   "cell_type": "code",
   "execution_count": 2,
   "metadata": {},
   "outputs": [],
   "source": [
    "domain = 'Identification'\n",
    "subdomain = 'Groups'\n",
    "resource = 'Group'\n",
    "clean_json_file = clean_json('RelatedPerson.json')"
   ]
  },
  {
   "cell_type": "markdown",
   "metadata": {},
   "source": [
    "### Clean JSON"
   ]
  },
  {
   "cell_type": "code",
   "execution_count": 3,
   "metadata": {},
   "outputs": [
    {
     "name": "stdout",
     "output_type": "stream",
     "text": [
      "{\n",
      "  \"resourceType\" : \"Group\",\n",
      "  \"identifier<list::Identifier>\": null,\n",
      "  \"active<boolean>\": null,\n",
      "  \"type<code=person|animal|practitioner|device|medication|substance>\": null,\n",
      "  \"actual<boolean>\": null,\n",
      "  \"code<CodeableConcept>\": null,\n",
      "  \"name<string>\": null,\n",
      "  \"quantity<unsignedInt>\": null,\n",
      "  \"characteristic<list>\": [{\n",
      "    \"code<CodeableConcept>\": null,\n",
      "    \"valueCodeableConcept<CodeableConcept>\": null,\n",
      "    \"valueBoolean<boolean>\": null,\n",
      "    \"valueQuantity<Quantity>\": null,\n",
      "    \"valueRange<Range>\": null,\n",
      "    \"exclude<boolean>\": null,\n",
      "    \"period<Period>\": null\n",
      "  }],\n",
      "  \"member<list>\": [{\n",
      "    \"entity<Reference(Patient|Practitioner|Device|Medication|Substance)>\": null,\n",
      "    \"period<Period>\": null,\n",
      "    \"inactive<boolean>\": null\n",
      "  }]\n",
      "}\n"
     ]
    }
   ],
   "source": [
    "print(clean_json_file)"
   ]
  },
  {
   "cell_type": "markdown",
   "metadata": {},
   "source": [
    "Write in the json store"
   ]
  },
  {
   "cell_type": "code",
   "execution_count": 4,
   "metadata": {},
   "outputs": [],
   "source": [
    "process.write(domain, subdomain, resource, clean_json_file, 'json')"
   ]
  },
  {
   "cell_type": "markdown",
   "metadata": {},
   "source": [
    "### Convert to yml"
   ]
  },
  {
   "cell_type": "code",
   "execution_count": 5,
   "metadata": {},
   "outputs": [
    {
     "name": "stdout",
     "output_type": "stream",
     "text": [
      "resourceType: \"Group\"\n",
      "identifier<list::Identifier>:\n",
      "active<boolean>:\n",
      "type<code=person|animal|practitioner|device|medication|substance>:\n",
      "actual<boolean>:\n",
      "code<CodeableConcept>:\n",
      "name<string>:\n",
      "quantity<unsignedInt>:\n",
      "characteristic<list>:\n",
      "  - code<CodeableConcept>:\n",
      "    valueCodeableConcept<CodeableConcept>:\n",
      "    valueBoolean<boolean>:\n",
      "    valueQuantity<Quantity>:\n",
      "    valueRange<Range>:\n",
      "    exclude<boolean>:\n",
      "    period<Period>:\n",
      "member<list>:\n",
      "  - entity<Reference(Patient|Practitioner|Device|Medication|Substance)>:\n",
      "    period<Period>:\n",
      "    inactive<boolean>:\n"
     ]
    }
   ],
   "source": [
    "clean_yml_file = json_to_yml(json.loads(clean_json_file))\n",
    "print(clean_yml_file)"
   ]
  },
  {
   "cell_type": "markdown",
   "metadata": {},
   "source": [
    "Write in the yml store"
   ]
  },
  {
   "cell_type": "code",
   "execution_count": 6,
   "metadata": {},
   "outputs": [],
   "source": [
    "process.write(domain, subdomain, resource, clean_yml_file, 'yml')"
   ]
  },
  {
   "cell_type": "code",
   "execution_count": null,
   "metadata": {},
   "outputs": [],
   "source": []
  }
 ],
 "metadata": {
  "kernelspec": {
   "display_name": "Python 3",
   "language": "python",
   "name": "python3"
  },
  "language_info": {
   "codemirror_mode": {
    "name": "ipython",
    "version": 3
   },
   "file_extension": ".py",
   "mimetype": "text/x-python",
   "name": "python",
   "nbconvert_exporter": "python",
   "pygments_lexer": "ipython3",
   "version": "3.6.4"
  }
 },
 "nbformat": 4,
 "nbformat_minor": 2
}
