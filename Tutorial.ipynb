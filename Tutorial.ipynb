{
 "cells": [
  {
   "cell_type": "markdown",
   "metadata": {},
   "source": [
    "## From hl7-json to yml"
   ]
  },
  {
   "cell_type": "markdown",
   "metadata": {},
   "source": [
    "You can find a raw json-like file in `patient.json` which is a copy paste of https://www.hl7.org/fhir/patient.html (**JSON tab**). We convert it in pure yml automatically."
   ]
  },
  {
   "cell_type": "code",
   "execution_count": 6,
   "metadata": {},
   "outputs": [],
   "source": [
    "import json\n",
    "from process import clean_json, json_to_yml"
   ]
  },
  {
   "cell_type": "code",
   "execution_count": 2,
   "metadata": {},
   "outputs": [],
   "source": [
    "clean_json_file = clean_json('patient.json')"
   ]
  },
  {
   "cell_type": "code",
   "execution_count": 4,
   "metadata": {},
   "outputs": [
    {
     "name": "stdout",
     "output_type": "stream",
     "text": [
      "{\n",
      "  \"resourceType\" : \"Patient\",\n",
      "  \"identifier<list::Identifier>\": null,\n",
      "  \"active<boolean>\": null,\n",
      "  \"name<list::HumanName>\": null,\n",
      "  \"telecom<list::ContactPoint>\": null,\n",
      "  \"gender<code>\": null,\n",
      "  \"birthDate<date>\": null,\n",
      "  \"deceasedBoolean<boolean>\": null,\n",
      "  \"deceasedDateTime<dateTime>\": null,\n",
      "  \"address<list::Address>\": null,\n",
      "  \"maritalStatus<CodeableConcept>\": null,\n",
      "  \"multipleBirthBoolean<boolean>\": null,\n",
      "  \"multipleBirthInteger<integer>\": null,\n",
      "  \"photo<list::Attachment>\": null,\n",
      "  \"contact<list>\": [{\n",
      "    \"relationship<list::CodeableConcept>\": null,\n",
      "    \"name<HumanName>\": null,\n",
      "    \"telecom<list::ContactPoint>\": null,\n",
      "    \"address<Address>\": null,\n",
      "    \"gender<code>\": null,\n",
      "    \"organization<Reference(Organization)>\": null,\n",
      "    \"period<Period>\": null\n",
      "  }],\n",
      "  \"animal\" : { \n",
      "    \"species<CodeableConcept>\": null,\n",
      "    \"breed<CodeableConcept>\": null,\n",
      "    \"genderStatus<CodeableConcept>\": null\n",
      "  },\n",
      "  \"communication<list>\": [{\n",
      "    \"language<CodeableConcept>\": null,\n",
      "    \"preferred<boolean>\": null\n",
      "  }],\n",
      "  \"generalPractitioner<list::Reference(Organization|Practitioner)>\": null,\n",
      "  \"managingOrganization<Reference(Organization)>\": null,\n",
      "  \"link<list>\": [{\n",
      "    \"other<Reference(Patient|RelatedPerson)>\": null,\n",
      "    \"type<code>\": null\n",
      "  }]\n",
      "}\n"
     ]
    }
   ],
   "source": [
    "print(clean_json_file)"
   ]
  },
  {
   "cell_type": "code",
   "execution_count": 10,
   "metadata": {},
   "outputs": [
    {
     "name": "stdout",
     "output_type": "stream",
     "text": [
      "resourceType: \"Patient\"\n",
      "identifier<list::Identifier>:\n",
      "active<boolean>:\n",
      "name<list::HumanName>:\n",
      "telecom<list::ContactPoint>:\n",
      "gender<code>:\n",
      "birthDate<date>:\n",
      "deceasedBoolean<boolean>:\n",
      "deceasedDateTime<dateTime>:\n",
      "address<list::Address>:\n",
      "maritalStatus<CodeableConcept>:\n",
      "multipleBirthBoolean<boolean>:\n",
      "multipleBirthInteger<integer>:\n",
      "photo<list::Attachment>:\n",
      "contact<list>:\n",
      "  - relationship<list::CodeableConcept>:\n",
      "    name<HumanName>:\n",
      "    telecom<list::ContactPoint>:\n",
      "    address<Address>:\n",
      "    gender<code>:\n",
      "    organization<Reference(Organization)>:\n",
      "    period<Period>:\n",
      "animal:\n",
      "    species<CodeableConcept>:\n",
      "    breed<CodeableConcept>:\n",
      "    genderStatus<CodeableConcept>:\n",
      "communication<list>:\n",
      "  - language<CodeableConcept>:\n",
      "    preferred<boolean>:\n",
      "generalPractitioner<list::Reference(Organization|Practitioner)>:\n",
      "managingOrganization<Reference(Organization)>:\n",
      "link<list>:\n",
      "  - other<Reference(Patient|RelatedPerson)>:\n",
      "    type<code>:\n"
     ]
    }
   ],
   "source": [
    "json_to_yml(json.loads(clean_json_file))"
   ]
  },
  {
   "cell_type": "code",
   "execution_count": 9,
   "metadata": {},
   "outputs": [],
   "source": []
  },
  {
   "cell_type": "code",
   "execution_count": null,
   "metadata": {},
   "outputs": [],
   "source": []
  }
 ],
 "metadata": {
  "kernelspec": {
   "display_name": "Python 3",
   "language": "python",
   "name": "python3"
  },
  "language_info": {
   "codemirror_mode": {
    "name": "ipython",
    "version": 3
   },
   "file_extension": ".py",
   "mimetype": "text/x-python",
   "name": "python",
   "nbconvert_exporter": "python",
   "pygments_lexer": "ipython3",
   "version": "3.6.4"
  }
 },
 "nbformat": 4,
 "nbformat_minor": 2
}
